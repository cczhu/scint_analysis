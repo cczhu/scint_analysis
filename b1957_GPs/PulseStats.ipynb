{
 "cells": [
  {
   "cell_type": "code",
   "execution_count": 20,
   "metadata": {
    "collapsed": true
   },
   "outputs": [],
   "source": [
    "import numpy as np\n",
    "import astropy.units as u\n",
    "import matplotlib.pylab as plt\n",
    "import matplotlib.cm as cm\n",
    "from astropy.time import Time\n",
    "import astropy.units as u\n",
    "from pulsar.predictor import Polyco\n",
    "import glob\n",
    "%matplotlib inline"
   ]
  },
  {
   "cell_type": "code",
   "execution_count": 27,
   "metadata": {
    "collapsed": false
   },
   "outputs": [],
   "source": [
    "\"\"\"\n",
    "Load all b1957 Pulses\n",
    "\"\"\"\n",
    "\n",
    "day1 = Time('2014-06-13T06:30:00')\n",
    "day2 = Time('2014-06-14T06:30:00')\n",
    "day3 = Time('2014-06-15T06:30:00')\n",
    "day4 = Time('2014-06-16T06:30:00')\n",
    "\n",
    "day = day3\n",
    "SNcut = 12\n",
    "\n",
    "R1957GPs = np.loadtxt('/media/drive2/b1957-GPs/gp_RCP.txt', dtype='string')\n",
    "                      \n",
    "RT = Time(R1957GPs[:,0], precision=5)\n",
    "RSN = R1957GPs[:,1].astype('float')\n",
    "Rphase = R1957GPs[:,2].astype('float')\n",
    "\n",
    "Rphase = Rphase[abs(RT.unix - day.unix) > 18000 ]\n",
    "RSN = RSN[abs(RT.unix - day.unix) > 18000 ]\n",
    "RT = RT[abs(RT.unix - day.unix) > 18000 ]\n",
    "\n",
    "Rphase = Rphase[RSN>SNcut]\n",
    "RT = RT[RSN>SNcut]\n",
    "RSN = RSN[RSN>SNcut]\n",
    "\n",
    "\n",
    "L1957GPs = np.loadtxt('/media/drive2/b1957-GPs/gp_LCP.txt', dtype='string')\n",
    "                      \n",
    "LT = Time(L1957GPs[:,0], precision=5)\n",
    "LSN = L1957GPs[:,1].astype('float')\n",
    "Lphase = L1957GPs[:,2].astype('float')\n",
    "\n",
    "Lphase = Lphase[abs(LT.unix - day3.unix) > 18000 ]\n",
    "LSN = LSN[abs(LT.unix - day3.unix) > 18000 ]\n",
    "LT = LT[abs(LT.unix - day3.unix) > 18000 ]\n",
    "\n",
    "Lphase = Lphase[LSN>SNcut]\n",
    "LT = LT[LSN>SNcut]\n",
    "LSN = LSN[LSN>SNcut]\n"
   ]
  },
  {
   "cell_type": "code",
   "execution_count": 28,
   "metadata": {
    "collapsed": false
   },
   "outputs": [
    {
     "data": {
      "text/plain": [
       "(0, 0.001)"
      ]
     },
     "execution_count": 28,
     "metadata": {},
     "output_type": "execute_result"
    },
    {
     "data": {
      "image/png": "[encoded data removed]",
      "text/plain": [
       "<matplotlib.figure.Figure at 0x7ff1562e5e90>"
      ]
     },
     "metadata": {},
     "output_type": "display_data"
    }
   ],
   "source": [
    "# Look at difference between times, eliminate double flags\n",
    "\n",
    "dRT = np.diff(RT.unix)\n",
    "\n",
    "plt.plot(dRT, 'bx')\n",
    "plt.ylim(0,1e-3)\n",
    "#plt.yscale('log')"
   ]
  },
  {
   "cell_type": "code",
   "execution_count": 32,
   "metadata": {
    "collapsed": false
   },
   "outputs": [
    {
     "name": "stdout",
     "output_type": "stream",
     "text": [
      "ERROR! Session/line number was not unique in database. History logging moved to new session 1639\n"
     ]
    }
   ],
   "source": [
    "# based on above plot, eliminate pulses with dt < 2e-4\n",
    "\n",
    "dupes1 = RSN[1:][(dRT<2e-4) & (dRT > 0)]\n",
    "dupes2 = RSN[:-1][(dRT<2e-4) & (dRT > 0)]\n",
    "Tdupe1 = RT[1:][(dRT<2e-4) & (dRT > 0)]\n",
    "Tdupe2 = RT[:-1][(dRT<2e-4) & (dRT > 0)]\n",
    "\n",
    "Tdupe = np.zeros_like(Tdupe1)\n",
    "\n",
    "for i in range(len(Tdupe1)):\n",
    "    if dupes1[i] <= dupes2[i]:\n",
    "        Tdupe[i] = Tdupe1[i]\n",
    "    else:\n",
    "        Tdupe[i] = Tdupe2[i]\n",
    "        \n",
    "duplicates = np.where(np.in1d(RT, Tdupe))[0]"
   ]
  },
  {
   "cell_type": "code",
   "execution_count": 34,
   "metadata": {
    "collapsed": true
   },
   "outputs": [],
   "source": [
    "RT = np.delete(RT, duplicates)\n",
    "RSN = np.delete(RSN, duplicates)\n",
    "Rphase = np.delete(Rphase, duplicates)"
   ]
  },
  {
   "cell_type": "code",
   "execution_count": 35,
   "metadata": {
    "collapsed": false
   },
   "outputs": [
    {
     "data": {
      "text/plain": [
       "(0, 0.001)"
      ]
     },
     "execution_count": 35,
     "metadata": {},
     "output_type": "execute_result"
    },
    {
     "data": {
      "image/png": "[encoded data removed]",
      "text/plain": [
       "<matplotlib.figure.Figure at 0x7ff1562a5490>"
      ]
     },
     "metadata": {},
     "output_type": "display_data"
    }
   ],
   "source": [
    "# Look at difference between times, eliminate double flags\n",
    "\n",
    "dLT = np.diff(LT.unix)\n",
    "\n",
    "plt.plot(dLT, 'bx')\n",
    "plt.ylim(0,1e-3)\n",
    "#plt.yscale('log')"
   ]
  },
  {
   "cell_type": "code",
   "execution_count": 36,
   "metadata": {
    "collapsed": true
   },
   "outputs": [],
   "source": [
    "# based on above plot, eliminate pulses with dt < 2e-4\n",
    "\n",
    "dupes1 = LSN[1:][(dLT<2e-4) & (dLT > 0)]\n",
    "dupes2 = LSN[:-1][(dLT<2e-4) & (dLT > 0)]\n",
    "Tdupe1 = LT[1:][(dLT<2e-4) & (dLT > 0)]\n",
    "Tdupe2 = LT[:-1][(dLT<2e-4) & (dLT > 0)]\n",
    "\n",
    "Tdupe = np.zeros_like(Tdupe1)\n",
    "\n",
    "for i in range(len(Tdupe1)):\n",
    "    if dupes1[i] <= dupes2[i]:\n",
    "        Tdupe[i] = Tdupe1[i]\n",
    "    else:\n",
    "        Tdupe[i] = Tdupe2[i]\n",
    "        \n",
    "duplicates = np.where(np.in1d(LT, Tdupe))[0]\n",
    "\n",
    "LT = np.delete(LT, duplicates)\n",
    "LSN = np.delete(LSN, duplicates)\n",
    "Lphase = np.delete(Lphase, duplicates)"
   ]
  },
  {
   "cell_type": "code",
   "execution_count": 37,
   "metadata": {
    "collapsed": false
   },
   "outputs": [
    {
     "name": "stdout",
     "output_type": "stream",
     "text": [
      "(255,) (325,)\n",
      "(115,)\n"
     ]
    }
   ],
   "source": [
    "# Find all values intersecting between L and R\n",
    "\n",
    "b = np.intersect1d(Time(RT).unix, Time(LT).unix, assume_unique=True)\n",
    "\n",
    "print LT.shape, RT.shape\n",
    "print b.shape"
   ]
  },
  {
   "cell_type": "code",
   "execution_count": 38,
   "metadata": {
    "collapsed": false
   },
   "outputs": [],
   "source": [
    "with open('gp_RCP_SN12clean.txt','w') as Rfile:\n",
    "    for i in range(len(RT)):\n",
    "        Rfile.write(\"{0} {1} {2}\\n\".format(RT[i], RSN[i], Rphase[i]))\n",
    "\n",
    "with open('gp_LCP_SN12clean.txt','w') as Lfile:\n",
    "    for i in range(len(LT)):\n",
    "        Lfile.write(\"{0} {1} {2}\\n\".format(LT[i], LSN[i], Lphase[i]))     "
   ]
  },
  {
   "cell_type": "code",
   "execution_count": null,
   "metadata": {
    "collapsed": true
   },
   "outputs": [],
   "source": [
    "print Tdupes"
   ]
  }
 ],
 "metadata": {
  "kernelspec": {
   "display_name": "Python 2",
   "language": "python",
   "name": "python2"
  },
  "language_info": {
   "codemirror_mode": {
    "name": "ipython",
    "version": 2
   },
   "file_extension": ".py",
   "mimetype": "text/x-python",
   "name": "python",
   "nbconvert_exporter": "python",
   "pygments_lexer": "ipython2",
   "version": "2.7.6"
  }
 },
 "nbformat": 4,
 "nbformat_minor": 1
}
